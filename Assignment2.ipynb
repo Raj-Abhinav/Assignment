{
 "cells": [
  {
   "cell_type": "code",
   "execution_count": null,
   "id": "9f3a11e6-65ec-4a48-803d-eb473f1bba75",
   "metadata": {},
   "outputs": [],
   "source": [
    "1.) codes in python are commented by using hash tag.\n",
    "2.) it is basically a reference to an abject.\n",
    " variable declaration ....\n",
    "    i = 5\n",
    "\n",
    "3.) in python one data type can be converted to other by type conversion.\n",
    "4.) To run python scripts from command line we need to open a command line and write as follows $python3 followed \n",
    "    by the path of the saved python script...make sure you have python 3 installed on your system....\n",
    "    \n",
    "    "
   ]
  },
  {
   "cell_type": "code",
   "execution_count": 4,
   "id": "f83e1a55-af62-4564-95fa-a353745c981e",
   "metadata": {},
   "outputs": [
    {
     "data": {
      "text/plain": [
       "[2, 3]"
      ]
     },
     "execution_count": 4,
     "metadata": {},
     "output_type": "execute_result"
    }
   ],
   "source": [
    "#5.)\n",
    "\n",
    "my_list = [1,2,3,4]\n",
    "\n",
    "my_list[1:3]\n"
   ]
  },
  {
   "cell_type": "code",
   "execution_count": null,
   "id": "ad268fe2-1e36-4cbd-92c4-0be80ebe09ee",
   "metadata": {},
   "outputs": [],
   "source": [
    "6.) In maths, the numbers represented in the form of a+ib are known as the complex numbers.\n",
    "    In python complex numbers are represented as a+bj.....\n",
    "    \n",
    "7.) Correct way to declare a variable age and assign the value 25 is as follows ....\n",
    "    age = 25    "
   ]
  },
  {
   "cell_type": "code",
   "execution_count": 5,
   "id": "68ca242b-2b94-4abf-80ee-627ac02a5e38",
   "metadata": {},
   "outputs": [],
   "source": [
    "#8.)\n",
    "price = 9.99"
   ]
  },
  {
   "cell_type": "code",
   "execution_count": 6,
   "id": "b8af0ea1-ac5d-47a5-aeb5-28810522ad92",
   "metadata": {},
   "outputs": [
    {
     "data": {
      "text/plain": [
       "float"
      ]
     },
     "execution_count": 6,
     "metadata": {},
     "output_type": "execute_result"
    }
   ],
   "source": [
    "type(price)"
   ]
  },
  {
   "cell_type": "code",
   "execution_count": 7,
   "id": "51125b81-9fa8-43e3-8cba-4f81f532be4c",
   "metadata": {},
   "outputs": [
    {
     "name": "stdout",
     "output_type": "stream",
     "text": [
      "Abhinav Raj\n"
     ]
    }
   ],
   "source": [
    "#9.)\n",
    "\n",
    "name = \"Abhinav Raj\"\n",
    "print(name)"
   ]
  },
  {
   "cell_type": "code",
   "execution_count": 8,
   "id": "e8aabf0a-2592-4bae-b0ff-7207cfd3f7d5",
   "metadata": {},
   "outputs": [
    {
     "data": {
      "text/plain": [
       "'World!'"
      ]
     },
     "execution_count": 8,
     "metadata": {},
     "output_type": "execute_result"
    }
   ],
   "source": [
    "#10.)\n",
    "\n",
    "str = \"Hello, World!\"\n",
    "str[7:]"
   ]
  },
  {
   "cell_type": "code",
   "execution_count": null,
   "id": "15d97b90-ca44-4470-9101-0c89e20fa3fb",
   "metadata": {},
   "outputs": [],
   "source": []
  },
  {
   "cell_type": "code",
   "execution_count": null,
   "id": "ad669cc1-c831-4d3c-a895-a6b33d7a71c5",
   "metadata": {},
   "outputs": [],
   "source": []
  },
  {
   "cell_type": "code",
   "execution_count": null,
   "id": "f6e63fad-f8b6-4d2d-b4de-b7a908a1eb5b",
   "metadata": {},
   "outputs": [],
   "source": []
  }
 ],
 "metadata": {
  "kernelspec": {
   "display_name": "Python 3 (ipykernel)",
   "language": "python",
   "name": "python3"
  },
  "language_info": {
   "codemirror_mode": {
    "name": "ipython",
    "version": 3
   },
   "file_extension": ".py",
   "mimetype": "text/x-python",
   "name": "python",
   "nbconvert_exporter": "python",
   "pygments_lexer": "ipython3",
   "version": "3.10.8"
  }
 },
 "nbformat": 4,
 "nbformat_minor": 5
}
